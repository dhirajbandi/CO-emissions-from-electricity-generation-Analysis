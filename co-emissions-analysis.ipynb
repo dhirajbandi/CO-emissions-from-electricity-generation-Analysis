{
 "cells": [
  {
   "cell_type": "markdown",
   "id": "9aee7dc9",
   "metadata": {
    "papermill": {
     "duration": 0.00603,
     "end_time": "2025-06-02T14:28:09.060551",
     "exception": false,
     "start_time": "2025-06-02T14:28:09.054521",
     "status": "completed"
    },
    "tags": []
   },
   "source": [
    "# Which U.S. state has contributed the most CO₂ emissions from electricity generation since 1990?\n",
    "## Introduction\n",
    "In this case study, I explore greenhouse gas emissions from the U.S. electric power industry using SQL in Google BigQuery and Google Sheets for the charts. The [dataset, published by the U.S. Energy Information Administration](https://www.eia.gov/electricity/data.php#elecenv), contains annual emissions estimates dating back to 1990, and as recent as 2023. It includes data on carbon dioxide (CO₂), sulfur dioxide (SO₂), and nitrogen oxides (NOₓ) emissions across all U.S. states, categorized by producer type and energy source.\n",
    "The EIA is known for its rigorous data collection methods and is widely regarded as a highly reliable source for energy-related statistics. Its data is frequently used by researchers, policy makers, and analysts to monitor trends and shape climate policy.\n",
    "\n",
    "The goal of this analysis is to determine which U.S. state has contributed the most CO₂ emissions from electricity generation since 1990. By analyzing long-term trends and aggregating emissions by state, this project highlights regional contributions to climate change and demonstrates how structured query language (SQL) can be used to extract meaningful insights from public environmental data.\n",
    "\n",
    "**Important: The code below will not be functional, as Kaggle cannot execute SQL from the BigQuery sandbox. I will be documenting my process here without running the code.**\n",
    "While there is an option to run SQL on Kaggle using Python, doing so would not align with the objective of this project.\n",
    "\n",
    "## Cleaning the data\n",
    "Starting off with basic cleaning - checking for NULLs"
   ]
  },
  {
   "cell_type": "code",
   "id": "0f8e18b5",
   "metadata": {
    "execution": {
     "iopub.execute_input": "2025-06-02T14:28:09.071868Z",
     "iopub.status.busy": "2025-06-02T14:28:09.071576Z",
     "iopub.status.idle": "2025-06-02T14:28:09.080158Z",
     "shell.execute_reply": "2025-06-02T14:28:09.079138Z"
    },
    "papermill": {
     "duration": 0.015944,
     "end_time": "2025-06-02T14:28:09.081596",
     "exception": true,
     "start_time": "2025-06-02T14:28:09.065652",
     "status": "failed"
    },
    "tags": []
   },
   "source": [
    "SELECT \n",
    "    COUNT(*) AS total_rows,\n",
    "    COUNTIF(State IS NULL) AS null_states,\n",
    "    COUNTIF('CO2Metric Tons' IS NULL) AS null_co2,\n",
    "    COUNTIF(Year IS NULL) AS null_year\n",
    "FROM 'delta-exchange-387814.Annual_emissions.Annual_emissions'"
   ],
   "outputs": [],
   "execution_count": null
  },
  {
   "cell_type": "markdown",
   "id": "14370f01",
   "metadata": {
    "papermill": {
     "duration": null,
     "end_time": null,
     "exception": null,
     "start_time": null,
     "status": "pending"
    },
    "tags": []
   },
   "source": [
    "```Row | total_rows | null_states | null_co2 | null_year```\n",
    "\n",
    "``` 1  |   49106    |     0       |    0     |    0```\n",
    "\n",
    "I did not find any NULL values; however, I will keep NULL filters in place for future-proofing and to ensure overall data safety."
   ]
  },
  {
   "cell_type": "code",
   "execution_count": null,
   "id": "67f16922",
   "metadata": {
    "papermill": {
     "duration": null,
     "end_time": null,
     "exception": null,
     "start_time": null,
     "status": "pending"
    },
    "tags": []
   },
   "outputs": [],
   "source": [
    "SELECT *\n",
    "FROM 'delta-exchange-387814.Annual_emissions.Annual_emissions'\n",
    "WHERE \n",
    "  'CO2Metric Tons' IS NOT NULL \n",
    "  AND State IS NOT NULL\n",
    "  AND Year IS NOT NULL;"
   ]
  },
  {
   "cell_type": "markdown",
   "id": "52749cb4",
   "metadata": {
    "papermill": {
     "duration": null,
     "end_time": null,
     "exception": null,
     "start_time": null,
     "status": "pending"
    },
    "tags": []
   },
   "source": [
    "```Row |NOxMetricTons |SO2MetricTons |CO2MetricTons |EnergySource |ProducerType |State |Year```\n",
    "\n",
    "```6  | 7837         | 2403         |2814130       |All Sources  |Electric Utility |AK |1990```\n",
    "\n",
    "```7  | 2881         | 832          |646430        |Coal         |Electric Utility |AK |1990``` \n",
    "\n",
    "```8  | 4364         | 9            |1886585       |Natural Gas  |Electric Utility |AK |1990```\n",
    "\n",
    "```9  |592           |1562          |281115        |Petroleum    |Electric Utility |AK |1990```\n",
    "\n",
    "```10 | 791          | 2968         |176547        |All Sources  |Industrial Cogen |AK |1990```\n",
    "\n",
    "```11 | 308          | 1            |127455        |Natural Gas  |Industrial Cogen |AK |1990```\n",
    "\n",
    "These are 6 random results out of 49106 that were returned.\n",
    "\n",
    "## Analysing the data\n",
    " Aggregating CO₂ emissions by state"
   ]
  },
  {
   "cell_type": "code",
   "execution_count": null,
   "id": "ae189e86",
   "metadata": {
    "papermill": {
     "duration": null,
     "end_time": null,
     "exception": null,
     "start_time": null,
     "status": "pending"
    },
    "tags": []
   },
   "outputs": [],
   "source": [
    "SELECT \n",
    "  State,\n",
    "  SUM('CO2Metric Tons') AS total_co2_emissions\n",
    "FROM \n",
    "  'delta-exchange-387814.Annual_emissions.Annual_emissions'\n",
    "WHERE \n",
    "  'CO2Metric Tons' IS NOT NULL \n",
    "  AND State IS NOT NULL\n",
    "  AND Year IS NOT NULL\n",
    "GROUP BY State\n",
    "ORDER BY total_co2_emissions DESC\n",
    "LIMIT 10;"
   ]
  },
  {
   "cell_type": "markdown",
   "id": "f0826710",
   "metadata": {
    "papermill": {
     "duration": null,
     "end_time": null,
     "exception": null,
     "start_time": null,
     "status": "pending"
    },
    "tags": []
   },
   "source": [
    "This has returned the top 10 states with the highest total CO₂ emissions since 1990\n",
    "\n",
    "```Row | State    | total_co2_emissions```\n",
    "\n",
    "```1   | US-TOTAL | 291360127364```\n",
    "\n",
    "```2   | TX       | 32569574256```\n",
    "\n",
    "```3   | FL       | 15282684864```\n",
    "\n",
    "```4   | OH       | 14551200360```\n",
    "\n",
    "```5   | PA       | 14505692980```\n",
    "\n",
    "```6   | IN       | 13950303292```\n",
    "\n",
    "```7   | IL       | 11177805620```\n",
    "\n",
    "```8   | KY       | 10619925464```\n",
    "\n",
    "```9   | WV       | 9854772096```\n",
    "\n",
    "```10  | MI       | 9546492216```\n",
    "\n",
    "This has included 'US total' as one of the states, so let's remove that to identify our final missing top 10 state:"
   ]
  },
  {
   "cell_type": "code",
   "execution_count": null,
   "id": "db34c5a9",
   "metadata": {
    "papermill": {
     "duration": null,
     "end_time": null,
     "exception": null,
     "start_time": null,
     "status": "pending"
    },
    "tags": []
   },
   "outputs": [],
   "source": [
    "SELECT \n",
    "  State,\n",
    "  SUM('CO2Metric Tons') AS total_co2_emissions\n",
    "FROM \n",
    "  'delta-exchange-387814.Annual_emissions.Annual_emissions'\n",
    "WHERE \n",
    "  'CO2Metric Tons' IS NOT NULL \n",
    "  AND State IS NOT NULL\n",
    "  AND Year IS NOT NULL\n",
    "  AND UPPER(TRIM(State)) != 'US-TOTAL'\n",
    "GROUP BY State\n",
    "ORDER BY total_co2_emissions DESC\n",
    "LIMIT 10;"
   ]
  },
  {
   "cell_type": "markdown",
   "id": "6ad87459",
   "metadata": {
    "papermill": {
     "duration": null,
     "end_time": null,
     "exception": null,
     "start_time": null,
     "status": "pending"
    },
    "tags": []
   },
   "source": [
    "```Row | State    | total_co2_emissions```\n",
    "\n",
    "```1   | TX       | 32569574256```\n",
    "\n",
    "```2   | FL       | 15282684864```\n",
    "\n",
    "```3   | OH       | 14551200360```\n",
    "\n",
    "```4   | PA       | 14505692980```\n",
    "\n",
    "```5   | IN       | 13950303292```\n",
    "\n",
    "```6   | IL       | 11177805620```\n",
    "\n",
    "```7   | KY       | 10619925464```\n",
    "\n",
    "```8   | WV       | 9854772096```\n",
    "\n",
    "```9   | MI       | 9546492216```\n",
    "\n",
    "```10  | GA       | 9305286372```\n",
    "\n",
    "We can now see the **top 10 US states with the highest total CO₂ emissions**, ranked from highest to lowest, with *Texas* at the top of the list.\n",
    "\n",
    "Let's find out what our most recent available year is, to ensure our dataset contains up-to-date data:"
   ]
  },
  {
   "cell_type": "code",
   "execution_count": null,
   "id": "60c71a47",
   "metadata": {
    "papermill": {
     "duration": null,
     "end_time": null,
     "exception": null,
     "start_time": null,
     "status": "pending"
    },
    "tags": []
   },
   "outputs": [],
   "source": [
    "SELECT MAX(Year) AS most_recent_year\n",
    "FROM 'delta-exchange-387814.Annual_emissions.Annual_emissions'"
   ]
  },
  {
   "cell_type": "markdown",
   "id": "124d67d7",
   "metadata": {
    "papermill": {
     "duration": null,
     "end_time": null,
     "exception": null,
     "start_time": null,
     "status": "pending"
    },
    "tags": []
   },
   "source": [
    "```Row | most_recent_year```\n",
    "\n",
    "``` 1  |     2023```\n",
    "\n",
    "The most recent year in our dataset is 2023, so it is still quite up-to-date. \n",
    "\n",
    "Now, we can examine the list of the **\"top 10 US states with the highest total CO₂ emissions\" for this most recent year, 2023:**"
   ]
  },
  {
   "cell_type": "code",
   "execution_count": null,
   "id": "1df7e90c",
   "metadata": {
    "papermill": {
     "duration": null,
     "end_time": null,
     "exception": null,
     "start_time": null,
     "status": "pending"
    },
    "tags": []
   },
   "outputs": [],
   "source": [
    "SELECT \n",
    "  State,\n",
    "  SUM('CO2Metric Tons') AS total_co2_emissions\n",
    "FROM \n",
    "  'delta-exchange-387814.Annual_emissions.Annual_emissions'\n",
    "WHERE \n",
    "  Year = 2023\n",
    "AND UPPER(TRIM(State)) != 'US-TOTAL'\n",
    "GROUP BY State\n",
    "ORDER BY total_co2_emissions DESC\n",
    "LIMIT 10;"
   ]
  },
  {
   "cell_type": "markdown",
   "id": "4038ea0c",
   "metadata": {
    "papermill": {
     "duration": null,
     "end_time": null,
     "exception": null,
     "start_time": null,
     "status": "pending"
    },
    "tags": []
   },
   "source": [
    "```Row | State | total_co2_emissions```\n",
    "\n",
    "```1   | TX    | 851074624```\n",
    "\n",
    "```2   | FL    | 374939212```\n",
    "\n",
    "```3   | PA    | 280829388```\n",
    "\n",
    "```4   | OH    | 252903052```\n",
    "\n",
    "```5   | IN    | 245009488```\n",
    "\n",
    "```6   | KY    | 200157876```\n",
    "\n",
    "```7   | MI    | 200073884```\n",
    "\n",
    "```8   | AL    | 184326700```\n",
    "\n",
    "```9   | MO    | 183662508```\n",
    "\n",
    "```10  | WV    | 182972256```\n",
    "\n",
    "When examining only the year 2023, our list of states with the highest CO₂ emissions differs slightly from the previous list that included all combined years. *Texas* still holds the top position for the highest CO₂ emissions. However, *Illinois*, which was previously in the top six, and *Georgia*, which was previously in the top ten, are no longer on the list. Instead, *Alabama* has now moved up to eighth place, and *Missouri* is at ninth place.\n",
    "\n",
    "To go the extra mile, I decided to create a list of the **top 10 energy sources that produce the most emissions.** Similar to the issue I encountered with the 'US Total' earlier, this query was also including 'All Sources', which I have filtered out."
   ]
  },
  {
   "cell_type": "code",
   "execution_count": null,
   "id": "f3a29f50",
   "metadata": {
    "papermill": {
     "duration": null,
     "end_time": null,
     "exception": null,
     "start_time": null,
     "status": "pending"
    },
    "tags": []
   },
   "outputs": [],
   "source": [
    "SELECT \n",
    "  'Energy Source',\n",
    "  SUM('CO2Metric Tons') AS total_co2_emissions\n",
    "FROM \n",
    "  'delta-exchange-387814.Annual_emissions.Annual_emissions'\n",
    "WHERE \n",
    "  'CO2Metric Tons' IS NOT NULL \n",
    "  AND State IS NOT NULL\n",
    "  AND Year IS NOT NULL\n",
    "  AND UPPER(TRIM('Energy Source')) != 'ALL SOURCES'\n",
    "GROUP BY 'Energy Source'\n",
    "ORDER BY total_co2_emissions DESC\n",
    "LIMIT 10;"
   ]
  },
  {
   "cell_type": "markdown",
   "id": "e3bb59fb",
   "metadata": {
    "papermill": {
     "duration": null,
     "end_time": null,
     "exception": null,
     "start_time": null,
     "status": "pending"
    },
    "tags": []
   },
   "source": [
    "```Row | Energy Source | total_co2_emissions```\n",
    "\n",
    "```1   |     Coal      | 219014122264```\n",
    "\n",
    "```2   |  Natural Gas  | 61331442980```\n",
    "\n",
    "```3   |   Petroleum   | 9156482596```\n",
    "\n",
    "```4   |    Other      | 1800729744```\n",
    "\n",
    "```5   |   Geothermal  | 53750156```\n",
    "\n",
    "```6   |  Other Gases  | 3599624```\n",
    "\n",
    "```7   | Other Biomass | 0```\n",
    "\n",
    "```8   |Wood and Wood Derived Fuels | 0```\n",
    "\n",
    "Coal is at the top of the list, with the highest amount of CO₂ emissions.\n",
    "Here I also noticed that \"Other Biomass\" and \"Wood and Wood Derived Fuels\" shows 0 CO₂ emissions, despite having values for  SO₂ and NOₓ in the source dataset. Upon reviewing the EIA's notes and methodology, I realised that this is not a data error. These energy sources are considered biogenic fuels, and their CO₂ emissions are often excluded from fossil fuel emission totals. This approach aligns with international carbon accounting agreement, which consider biogenic CO₂ part of the natural carbon cycle. Essentially, the main idea is that any carbon emitted during combustion will be absorbed over the lifetime of the plants that replace them.\n",
    "\n",
    "## Identifying trends\n",
    "\n",
    "**How have total CO₂ emissions changed in the U.S. over time?**"
   ]
  },
  {
   "cell_type": "code",
   "execution_count": null,
   "id": "9b09f754",
   "metadata": {
    "papermill": {
     "duration": null,
     "end_time": null,
     "exception": null,
     "start_time": null,
     "status": "pending"
    },
    "tags": []
   },
   "outputs": [],
   "source": [
    "SELECT \n",
    "  Year,\n",
    "  SUM('CO2Metric Tons') AS total_us_emissions\n",
    "FROM \n",
    "  'delta-exchange-387814.Annual_emissions.Annual_emissions'\n",
    "WHERE \n",
    "  'CO2Metric Tons' IS NOT NULL \n",
    "  AND UPPER(TRIM(State)) != 'US-TOTAL'\n",
    "GROUP BY Year\n",
    "ORDER BY Year;"
   ]
  },
  {
   "attachments": {
    "35f72b64-7c6b-4bfa-af62-7c4094f8221a.png": {
     "image/png": "[encoded data removed]"
    }
   },
   "cell_type": "markdown",
   "id": "38a3526d",
   "metadata": {
    "papermill": {
     "duration": null,
     "end_time": null,
     "exception": null,
     "start_time": null,
     "status": "pending"
    },
    "tags": []
   },
   "source": [
    "```Row | Year | total_us_emissions```\n",
    "\n",
    "```1   | 1990 | 7814795768```\n",
    "\n",
    "```2   | 1991 | 7801862828```\n",
    "\n",
    "```3   | 1992 | 7889100436```\n",
    "\n",
    "```4   | 1993 | 8228210400```\n",
    "\n",
    "```5   | 1994 | 8352553604```\n",
    "\n",
    "```6   | 1995 | 8432024380```\n",
    "\n",
    "```7   | 1996 | 8747918564```\n",
    "\n",
    "```8   | 1997 | 9037286080```\n",
    "\n",
    "```9   | 1998 | 9406398068```\n",
    "\n",
    "```10  | 1999 | 9465209184```\n",
    "\n",
    "```11  | 2000 | 9883337780```\n",
    "\n",
    "```12  | 2001 | 9674426892```\n",
    "\n",
    "```13  | 2002 | 9695852360```\n",
    "\n",
    "```14  | 2003 | 9780377200```\n",
    "\n",
    "```15  | 2004 | 9947926232```\n",
    "\n",
    "```16  | 2005 | 10175352652```\n",
    "\n",
    "```17  | 2006 | 9955671004```\n",
    "\n",
    "```18  | 2007 | 10188129944```\n",
    "\n",
    "```19  | 2008 | 9936048444```\n",
    "\n",
    "```20  | 2009 | 9078030512```\n",
    "\n",
    "```21  | 2010 | 9554383660```\n",
    "\n",
    "```22  | 2011 | 9148282920```\n",
    "\n",
    "```23  | 2012 | 8627499108```\n",
    "\n",
    "```24  | 2013 | 8689419860```\n",
    "\n",
    "```25  | 2014 | 8673137100```\n",
    "\n",
    "```26  | 2015 | 8125809052```\n",
    "\n",
    "```27  | 2016 | 7713603648```\n",
    "\n",
    "```28  | 2017 | 7398999204```\n",
    "\n",
    "```29  | 2018 | 7489318096```\n",
    "\n",
    "```30  | 2019 | 6899490744```\n",
    "\n",
    "```31  | 2020 | 6214343272```\n",
    "\n",
    "```32  | 2021 | 6607645224```\n",
    "\n",
    "```33  | 2022 | 6601466052```\n",
    "\n",
    "```34  | 2023 | 6126217092```\n",
    "\n",
    "![Total CO₂ emissions per year.png](attachment:35f72b64-7c6b-4bfa-af62-7c4094f8221a.png)\n",
    "\n",
    "Based on this data, we can see that CO₂ emissions in the US have been consistently declining over the past couple of decades. This downward trend is likely driven by the gradual phasing-out of coal, historically the most carbon-intensive energy source, by natural gas, which emits less CO₂, and by the increasing adoption of renewable energy sources such as wind, solar, and hydro. The overall trend highlights the importance of transitioning to cleaner sources, although coal and natural gas still remain dominant contributors to overall emissions.\n",
    "\n",
    "\n",
    "**Which energy sources have been driving emissions, and how are they changing over time? Filtered by our top 5 sources:**"
   ]
  },
  {
   "cell_type": "code",
   "execution_count": null,
   "id": "7a0c5a24",
   "metadata": {
    "papermill": {
     "duration": null,
     "end_time": null,
     "exception": null,
     "start_time": null,
     "status": "pending"
    },
    "tags": []
   },
   "outputs": [],
   "source": [
    "SELECT \n",
    "  Year,\n",
    "  'Energy Source',\n",
    "  SUM('CO2Metric Tons') AS total_emissions\n",
    "FROM \n",
    "  'delta-exchange-387814.Annual_emissions.Annual_emissions'\n",
    "WHERE \n",
    "  'CO2Metric Tons' IS NOT NULL\n",
    "  AND UPPER(TRIM('Energy Source')) IN ('COAL', 'NATURAL GAS', 'PETROLEUM', 'OTHER', 'GEOTHERMAL')\n",
    "GROUP BY Year, 'Energy Source'\n",
    "ORDER BY Year;"
   ]
  },
  {
   "attachments": {
    "29aa3f96-ae53-4971-9b7b-6b71041c7c9d.png": {
     "image/png": "[encoded data removed]"
    }
   },
   "cell_type": "markdown",
   "id": "2ff1898c",
   "metadata": {
    "papermill": {
     "duration": null,
     "end_time": null,
     "exception": null,
     "start_time": null,
     "status": "pending"
    },
    "tags": []
   },
   "source": [
    "The first 10 rows, out of the 170 that were returned:\n",
    "\n",
    "```Row | Year | EnergySource | total_emissions```\n",
    "\n",
    "```1   | 1990 |    Coal      | 6369579380```\n",
    "\n",
    "```2   | 1990 |  Petroleum   | 478320236```\n",
    "\n",
    "```3   | 1990 |  Natural Gas | 935406784```\n",
    "\n",
    "```4   | 1990 |    Other     | 29953400```\n",
    "\n",
    "```5   | 1990 |  Geothermal  | 1535968```\n",
    "\n",
    "```6   | 1991 |    Coal      | 6368742932```\n",
    "\n",
    "```7   | 1991 |  Natural Gas | 952335156```\n",
    "\n",
    "```8   | 1991 |  Petroleum   | 445405892```\n",
    "\n",
    "```9   | 1991 |    Other     | 33788476```\n",
    "\n",
    "```10  | 1991 |  Geothermal  | 1590372```\n",
    "\n",
    "![Sum of Total CO₂ Emissions per Year, by Energy Source.png](attachment:29aa3f96-ae53-4971-9b7b-6b71041c7c9d.png)\n",
    "\n",
    "This chart shows US CO₂ emissions by energy source from 1990 to 2023. Among these sources, coal stands out as historically the most polluting. According to US Energy Information Administration, coal emits more CO₂ per unit of energy produced than any other major fuel source - nearly twice as much as natural gas, and more than petroleum.\n",
    "\n",
    "However, starting around 2008, we see a decline in coal-related emissions. This trend can be attributed to a combination of stricter environmental regulations, the retirement of coal plants, and a shift toward cleaner energy sources like natural gas, wind, and solar. While natural gas is still a fossil fuel, it emits significantly less CO₂ than coal and has become a leading energy source in recent years - as seen in the rising yellow line. \n",
    "\n",
    "The steady decline in coal emissions has played a crucial role in driving down overall CO₂ emissions in the US, as reflected in the “Grand Total” line.\n",
    "\n",
    "**How have emissions changed over time in the top emitting states?**"
   ]
  },
  {
   "cell_type": "code",
   "execution_count": null,
   "id": "a7e96b67",
   "metadata": {
    "papermill": {
     "duration": null,
     "end_time": null,
     "exception": null,
     "start_time": null,
     "status": "pending"
    },
    "tags": []
   },
   "outputs": [],
   "source": [
    "SELECT \n",
    "  Year,\n",
    "  State,\n",
    "  SUM('CO2Metric Tons') AS total_emissions\n",
    "FROM \n",
    "  'delta-exchange-387814.Annual_emissions.Annual_emissions'\n",
    "WHERE \n",
    "  'CO2Metric Tons' IS NOT NULL \n",
    "  AND TRIM(State) IN ('TX', 'FL', 'OH', 'PA', 'IN')\n",
    "GROUP BY Year, State\n",
    "ORDER BY Year;"
   ]
  },
  {
   "attachments": {
    "980064ff-000a-4748-97ca-5ee26c3a34f1.png": {
     "image/png": "[encoded data removed]"
    }
   },
   "cell_type": "markdown",
   "id": "c65e14b3",
   "metadata": {
    "papermill": {
     "duration": null,
     "end_time": null,
     "exception": null,
     "start_time": null,
     "status": "pending"
    },
    "tags": []
   },
   "source": [
    "The first 10 rows, out of the 170 that were returned:\n",
    "\n",
    "```Row | Year | State | total_emissions```\n",
    "\n",
    "```1   | 1990 |  FL   | 366220948```\n",
    "\n",
    "```2   | 1990 |  IN   | 396314376```\n",
    "\n",
    "```3   | 1990 |  OH   | 442429364```\n",
    "\n",
    "```4   | 1990 |  PA   | 437987204```\n",
    "\n",
    "```5   | 1990 |  TX   | 852224672```\n",
    "\n",
    "```6   | 1991 |  FL   | 392073960```\n",
    "\n",
    "```7   | 1991 |  IN   | 394288636```\n",
    "\n",
    "```8   | 1991 |  OH   | 452618092```\n",
    "\n",
    "```9   | 1991 |  PA   | 435267508```\n",
    "\n",
    "```10  | 1991 |  TX   | 849459932```\n",
    "\n",
    "![Sum of Total CO₂ Emissions per Year by State.png](attachment:980064ff-000a-4748-97ca-5ee26c3a34f1.png)\n",
    "\n",
    "This line chart displays the total annual CO₂ emissions from the top 5 most emitting US states between 1990 and 2023. Texas stands out significantly as the top emitter, a state that is still heavily dependant on fossil fuels. According to EnvironmentAmerica.org, Texas extracts, produces and refines more crude oil and natural gas than any other state, and still remains the largest consumer of coal in the United States. \n",
    "\n",
    "In contrast, states like Indiana, Ohio, and Pennsylvania, which have historically relied heavily on coal, show a significant drop in emissions over time. This aligns with the broader national trend of retiring coal plants and adopting cleaner energy sources. These three states begin to sharply decline around 2010, likely due to the combination of stricter environmental regulations, a shift to natural gas, and increasing renewable energy adoption.\n",
    "Florida maintains relatively steady emissions through the early 2000s, with a slower decline beginning after 2008. \n",
    "\n",
    "## Conclusion\n",
    "This analysis of the US electric power industry reveals that the overall CO₂ emissions have declined since the 1990's, largely due to the gradual phasing-out of coal, with cleaner energy like natural gas and renewables. However, the data also highlights that Texas is the top CO₂ emitter in the country. Given Texas'size (the second-largest state by area) and population (the second-largest state by population), this is not surprising, but it also makes Texas a very critical player in the country's de-carbonization.\n",
    "\n",
    "**What does this mean for Texas?**\n",
    "\n",
    "The impacts of climate change are already being felt in Texas, with the state experiencing more frequent heatwaves, prolonged droughts, and extreme weather events. Along much of the coast, sea levels are rising by nearly two inches (~5 cm) per decade. On top of that, increased temperatures can have serious health effects, particularly on vulnerable populations, including children, the elderly, the sick, and those living in poverty. High temperatures can lead to heat stroke, and dehydration, and adversely affect cardiovascular and nervous systems, [as noted by the United States Environmental Protection Agency.](https://www.epa.gov/sites/default/files/2016-09/documents/climate-change-tx.pdf)\n",
    "\n",
    "Looking ahead, climate projections indicate greater strain on water resources, agriculture, energy infrastructure, and public health - especially if emissions remain high. The data is clear: Texas urgently needs to transition to low-carbon technologies, not only to reduce emissions but also to mitigate the growing effects and risks posed by climate change."
   ]
  }
 ],
 "metadata": {
  "kaggle": {
   "accelerator": "none",
   "dataSources": [],
   "isGpuEnabled": false,
   "isInternetEnabled": true,
   "language": "python",
   "sourceType": "notebook"
  },
  "kernelspec": {
   "display_name": "Python 3",
   "language": "python",
   "name": "python3"
  },
  "language_info": {
   "codemirror_mode": {
    "name": "ipython",
    "version": 3
   },
   "file_extension": ".py",
   "mimetype": "text/x-python",
   "name": "python",
   "nbconvert_exporter": "python",
   "pygments_lexer": "ipython3",
   "version": "3.11.11"
  },
  "papermill": {
   "default_parameters": {},
   "duration": 5.22265,
   "end_time": "2025-06-02T14:28:09.505299",
   "environment_variables": {},
   "exception": true,
   "input_path": "__notebook__.ipynb",
   "output_path": "__notebook__.ipynb",
   "parameters": {},
   "start_time": "2025-06-02T14:28:04.282649",
   "version": "2.6.0"
  }
 },
 "nbformat": 4,
 "nbformat_minor": 5
}
